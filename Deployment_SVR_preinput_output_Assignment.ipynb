{
 "cells": [
  {
   "cell_type": "code",
   "execution_count": 1,
   "id": "82f1a14f",
   "metadata": {},
   "outputs": [],
   "source": [
    "import pickle"
   ]
  },
  {
   "cell_type": "code",
   "execution_count": 2,
   "id": "9660d510",
   "metadata": {},
   "outputs": [],
   "source": [
    "load_model=pickle.load(open(\"FinalModel_SVM_preinput_output.sav\",'rb'))\n",
    "sc=pickle.load(open(\"StandardScalerX.pkl\",'rb'))\n",
    "scy=pickle.load(open(\"StandardScalerY.pkl\",'rb'))"
   ]
  },
  {
   "cell_type": "code",
   "execution_count": 3,
   "id": "c57eb2a4",
   "metadata": {},
   "outputs": [
    {
     "name": "stderr",
     "output_type": "stream",
     "text": [
      "C:\\Anaconda\\Lib\\site-packages\\sklearn\\base.py:464: UserWarning: X does not have valid feature names, but StandardScaler was fitted with feature names\n",
      "  warnings.warn(\n"
     ]
    },
    {
     "data": {
      "text/plain": [
       "array([[-1.46754484, -4.33834816, -1.50743981, -0.5       ,  1.30088727]])"
      ]
     },
     "execution_count": 3,
     "metadata": {},
     "output_type": "execute_result"
    }
   ],
   "source": [
    "preinput = sc.transform([[1300,12000,4000,0,1]])\n",
    "preinput"
   ]
  },
  {
   "cell_type": "code",
   "execution_count": 4,
   "id": "10455a8c",
   "metadata": {},
   "outputs": [
    {
     "data": {
      "text/plain": [
       "array([-1.49097954])"
      ]
     },
     "execution_count": 4,
     "metadata": {},
     "output_type": "execute_result"
    }
   ],
   "source": [
    "result = load_model.predict(preinput)\n",
    "result"
   ]
  },
  {
   "cell_type": "code",
   "execution_count": 5,
   "id": "c90798f7",
   "metadata": {},
   "outputs": [
    {
     "data": {
      "text/plain": [
       "array([[46093.67210441]])"
      ]
     },
     "execution_count": 5,
     "metadata": {},
     "output_type": "execute_result"
    }
   ],
   "source": [
    "preoutput = scy.inverse_transform([result])\n",
    "preoutput"
   ]
  }
 ],
 "metadata": {
  "kernelspec": {
   "display_name": "Python 3 (ipykernel)",
   "language": "python",
   "name": "python3"
  },
  "language_info": {
   "codemirror_mode": {
    "name": "ipython",
    "version": 3
   },
   "file_extension": ".py",
   "mimetype": "text/x-python",
   "name": "python",
   "nbconvert_exporter": "python",
   "pygments_lexer": "ipython3",
   "version": "3.11.5"
  }
 },
 "nbformat": 4,
 "nbformat_minor": 5
}
